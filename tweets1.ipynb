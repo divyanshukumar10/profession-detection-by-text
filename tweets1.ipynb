{
 "cells": [
  {
   "cell_type": "code",
   "execution_count": 1,
   "metadata": {},
   "outputs": [],
   "source": [
    "import pandas as pd\n",
    "import re "
   ]
  },
  {
   "cell_type": "code",
   "execution_count": 2,
   "metadata": {},
   "outputs": [],
   "source": [
    "import nltk"
   ]
  },
  {
   "cell_type": "code",
   "execution_count": 3,
   "metadata": {},
   "outputs": [],
   "source": [
    "from nltk.tokenize import RegexpTokenizer\n",
    "from collections import Counter \n",
    "from nltk.tokenize import word_tokenize\n",
    "from nltk.stem import WordNetLemmatizer\n",
    "from nltk.corpus import stopwords"
   ]
  },
  {
   "cell_type": "code",
   "execution_count": 4,
   "metadata": {},
   "outputs": [
    {
     "name": "stderr",
     "output_type": "stream",
     "text": [
      "[nltk_data] Downloading package punkt to\n",
      "[nltk_data]     /Users/divyanshukumar/nltk_data...\n",
      "[nltk_data]   Package punkt is already up-to-date!\n",
      "[nltk_data] Downloading package stopwords to\n",
      "[nltk_data]     /Users/divyanshukumar/nltk_data...\n",
      "[nltk_data]   Package stopwords is already up-to-date!\n"
     ]
    },
    {
     "data": {
      "text/plain": [
       "True"
      ]
     },
     "execution_count": 4,
     "metadata": {},
     "output_type": "execute_result"
    }
   ],
   "source": [
    "nltk.download('punkt')\n",
    "nltk.download('stopwords')"
   ]
  },
  {
   "cell_type": "code",
   "execution_count": 5,
   "metadata": {},
   "outputs": [
    {
     "name": "stderr",
     "output_type": "stream",
     "text": [
      "[nltk_data] Downloading package wordnet to\n",
      "[nltk_data]     /Users/divyanshukumar/nltk_data...\n",
      "[nltk_data]   Package wordnet is already up-to-date!\n"
     ]
    },
    {
     "data": {
      "text/plain": [
       "True"
      ]
     },
     "execution_count": 5,
     "metadata": {},
     "output_type": "execute_result"
    }
   ],
   "source": [
    "nltk.download('wordnet')\n"
   ]
  },
  {
   "cell_type": "code",
   "execution_count": 6,
   "metadata": {},
   "outputs": [],
   "source": [
    "import numpy as np \n",
    "import matplotlib.pyplot as plt"
   ]
  },
  {
   "cell_type": "code",
   "execution_count": 7,
   "metadata": {},
   "outputs": [],
   "source": [
    "%matplotlib inline"
   ]
  },
  {
   "cell_type": "code",
   "execution_count": 8,
   "metadata": {},
   "outputs": [],
   "source": [
    "from sklearn.feature_extraction.text import TfidfVectorizer, TfidfTransformer\n",
    "from sklearn.model_selection import train_test_split\n",
    "from sklearn import svm\n",
    "from sklearn.naive_bayes import MultinomialNB\n",
    "from sklearn.ensemble import AdaBoostClassifier, GradientBoostingClassifier\n",
    "from sklearn.tree import DecisionTreeClassifier\n",
    "import xgboost \n",
    "from sklearn.metrics  import classification_report\n",
    "from sklearn import metrics\n",
    "import time"
   ]
  },
  {
   "cell_type": "code",
   "execution_count": 9,
   "metadata": {},
   "outputs": [],
   "source": [
    "from sklearn.feature_extraction.text import TfidfVectorizer, TfidfTransformer\n",
    "from sklearn.model_selection import train_test_split\n",
    "from sklearn import svm\n",
    "from sklearn.naive_bayes import MultinomialNB\n",
    "from sklearn.ensemble import AdaBoostClassifier, GradientBoostingClassifier\n",
    "from sklearn.tree import DecisionTreeClassifier"
   ]
  },
  {
   "cell_type": "code",
   "execution_count": 10,
   "metadata": {},
   "outputs": [],
   "source": [
    "import xgboost \n",
    "from sklearn.metrics  import classification_report\n",
    "from sklearn import metrics"
   ]
  },
  {
   "cell_type": "code",
   "execution_count": 11,
   "metadata": {},
   "outputs": [],
   "source": [
    "import xgboost"
   ]
  },
  {
   "cell_type": "code",
   "execution_count": 12,
   "metadata": {},
   "outputs": [],
   "source": [
    "from sklearn.metrics  import classification_report\n",
    "from sklearn import metrics\n",
    "import time"
   ]
  },
  {
   "cell_type": "code",
   "execution_count": 13,
   "metadata": {},
   "outputs": [
    {
     "data": {
      "text/html": [
       "<div>\n",
       "<style scoped>\n",
       "    .dataframe tbody tr th:only-of-type {\n",
       "        vertical-align: middle;\n",
       "    }\n",
       "\n",
       "    .dataframe tbody tr th {\n",
       "        vertical-align: top;\n",
       "    }\n",
       "\n",
       "    .dataframe thead th {\n",
       "        text-align: right;\n",
       "    }\n",
       "</style>\n",
       "<table border=\"1\" class=\"dataframe\">\n",
       "  <thead>\n",
       "    <tr style=\"text-align: right;\">\n",
       "      <th></th>\n",
       "      <th>ArticleId</th>\n",
       "      <th>Text</th>\n",
       "      <th>Category</th>\n",
       "    </tr>\n",
       "  </thead>\n",
       "  <tbody>\n",
       "    <tr>\n",
       "      <th>0</th>\n",
       "      <td>1833</td>\n",
       "      <td>worldcom ex-boss launches defence lawyers defe...</td>\n",
       "      <td>businessman</td>\n",
       "    </tr>\n",
       "    <tr>\n",
       "      <th>1</th>\n",
       "      <td>154</td>\n",
       "      <td>german businessman confidence slides german bu...</td>\n",
       "      <td>businessman</td>\n",
       "    </tr>\n",
       "    <tr>\n",
       "      <th>2</th>\n",
       "      <td>1101</td>\n",
       "      <td>bbc poll indicates economic gloom citizens in ...</td>\n",
       "      <td>businessman</td>\n",
       "    </tr>\n",
       "    <tr>\n",
       "      <th>3</th>\n",
       "      <td>1976</td>\n",
       "      <td>lifestyle  governs mobile choice  faster  bett...</td>\n",
       "      <td>educational</td>\n",
       "    </tr>\n",
       "    <tr>\n",
       "      <th>4</th>\n",
       "      <td>917</td>\n",
       "      <td>enron bosses in $168m payout eighteen former e...</td>\n",
       "      <td>businessman</td>\n",
       "    </tr>\n",
       "  </tbody>\n",
       "</table>\n",
       "</div>"
      ],
      "text/plain": [
       "   ArticleId                                               Text     Category\n",
       "0       1833  worldcom ex-boss launches defence lawyers defe...  businessman\n",
       "1        154  german businessman confidence slides german bu...  businessman\n",
       "2       1101  bbc poll indicates economic gloom citizens in ...  businessman\n",
       "3       1976  lifestyle  governs mobile choice  faster  bett...  educational\n",
       "4        917  enron bosses in $168m payout eighteen former e...  businessman"
      ]
     },
     "execution_count": 13,
     "metadata": {},
     "output_type": "execute_result"
    }
   ],
   "source": [
    "df1 = pd.read_csv('profession_tweets.csv')\n",
    "df1.head()"
   ]
  },
  {
   "cell_type": "code",
   "execution_count": 14,
   "metadata": {},
   "outputs": [
    {
     "data": {
      "text/plain": [
       "['businessman', 'educational', 'politician', 'sportsman', 'entertainment']"
      ]
     },
     "execution_count": 14,
     "metadata": {},
     "output_type": "execute_result"
    }
   ],
   "source": [
    "category = list(df1['Category'].unique())\n",
    "category"
   ]
  },
  {
   "cell_type": "code",
   "execution_count": 15,
   "metadata": {},
   "outputs": [
    {
     "data": {
      "image/png": "[encoded data removed]",
      "text/plain": [
       "<Figure size 432x288 with 1 Axes>"
      ]
     },
     "metadata": {
      "needs_background": "light"
     },
     "output_type": "display_data"
    }
   ],
   "source": [
    "df1['Category'].value_counts().plot(kind='barh')\n",
    "plt.show()"
   ]
  },
  {
   "cell_type": "code",
   "execution_count": 16,
   "metadata": {},
   "outputs": [
    {
     "data": {
      "text/plain": [
       "ArticleId    0\n",
       "Text         0\n",
       "Category     0\n",
       "dtype: int64"
      ]
     },
     "execution_count": 16,
     "metadata": {},
     "output_type": "execute_result"
    }
   ],
   "source": [
    "df1.isnull().sum()"
   ]
  },
  {
   "cell_type": "code",
   "execution_count": 17,
   "metadata": {},
   "outputs": [],
   "source": [
    "def preprocess(text):\n",
    "    text = re.sub(r\"[^a-zA-Z]\", \" \", str(text).lower())\n",
    "    token = word_tokenize(text)\n",
    "    stop = stopwords.words(\"english\")\n",
    "    words = [t for t in token if t not in stop]\n",
    "    lem = [WordNetLemmatizer().lemmatize(w) for w in words]\n",
    "    return lem"
   ]
  },
  {
   "cell_type": "code",
   "execution_count": 18,
   "metadata": {},
   "outputs": [
    {
     "data": {
      "text/html": [
       "<div>\n",
       "<style scoped>\n",
       "    .dataframe tbody tr th:only-of-type {\n",
       "        vertical-align: middle;\n",
       "    }\n",
       "\n",
       "    .dataframe tbody tr th {\n",
       "        vertical-align: top;\n",
       "    }\n",
       "\n",
       "    .dataframe thead th {\n",
       "        text-align: right;\n",
       "    }\n",
       "</style>\n",
       "<table border=\"1\" class=\"dataframe\">\n",
       "  <thead>\n",
       "    <tr style=\"text-align: right;\">\n",
       "      <th></th>\n",
       "      <th>ArticleId</th>\n",
       "      <th>Text</th>\n",
       "      <th>Category</th>\n",
       "      <th>Preprocessed_Text</th>\n",
       "    </tr>\n",
       "  </thead>\n",
       "  <tbody>\n",
       "    <tr>\n",
       "      <th>0</th>\n",
       "      <td>1833</td>\n",
       "      <td>worldcom ex-boss launches defence lawyers defe...</td>\n",
       "      <td>businessman</td>\n",
       "      <td>[worldcom, ex, bos, launch, defence, lawyer, d...</td>\n",
       "    </tr>\n",
       "    <tr>\n",
       "      <th>1</th>\n",
       "      <td>154</td>\n",
       "      <td>german businessman confidence slides german bu...</td>\n",
       "      <td>businessman</td>\n",
       "      <td>[german, businessman, confidence, slide, germa...</td>\n",
       "    </tr>\n",
       "    <tr>\n",
       "      <th>2</th>\n",
       "      <td>1101</td>\n",
       "      <td>bbc poll indicates economic gloom citizens in ...</td>\n",
       "      <td>businessman</td>\n",
       "      <td>[bbc, poll, indicates, economic, gloom, citize...</td>\n",
       "    </tr>\n",
       "    <tr>\n",
       "      <th>3</th>\n",
       "      <td>1976</td>\n",
       "      <td>lifestyle  governs mobile choice  faster  bett...</td>\n",
       "      <td>educational</td>\n",
       "      <td>[lifestyle, governs, mobile, choice, faster, b...</td>\n",
       "    </tr>\n",
       "    <tr>\n",
       "      <th>4</th>\n",
       "      <td>917</td>\n",
       "      <td>enron bosses in $168m payout eighteen former e...</td>\n",
       "      <td>businessman</td>\n",
       "      <td>[enron, boss, payout, eighteen, former, enron,...</td>\n",
       "    </tr>\n",
       "    <tr>\n",
       "      <th>5</th>\n",
       "      <td>1582</td>\n",
       "      <td>howard  truanted to play snooker  conservative...</td>\n",
       "      <td>politician</td>\n",
       "      <td>[howard, truanted, play, snooker, conservative...</td>\n",
       "    </tr>\n",
       "    <tr>\n",
       "      <th>6</th>\n",
       "      <td>651</td>\n",
       "      <td>wales silent on grand slam talk rhys williams ...</td>\n",
       "      <td>sportsman</td>\n",
       "      <td>[wale, silent, grand, slam, talk, rhys, willia...</td>\n",
       "    </tr>\n",
       "    <tr>\n",
       "      <th>7</th>\n",
       "      <td>1797</td>\n",
       "      <td>french honour for director parker british film...</td>\n",
       "      <td>entertainment</td>\n",
       "      <td>[french, honour, director, parker, british, fi...</td>\n",
       "    </tr>\n",
       "    <tr>\n",
       "      <th>8</th>\n",
       "      <td>2034</td>\n",
       "      <td>car giant hit by mercedes slump a slump in pro...</td>\n",
       "      <td>businessman</td>\n",
       "      <td>[car, giant, hit, mercedes, slump, slump, prof...</td>\n",
       "    </tr>\n",
       "    <tr>\n",
       "      <th>9</th>\n",
       "      <td>1866</td>\n",
       "      <td>fockers fuel festive film chart comedy meet th...</td>\n",
       "      <td>entertainment</td>\n",
       "      <td>[fockers, fuel, festive, film, chart, comedy, ...</td>\n",
       "    </tr>\n",
       "  </tbody>\n",
       "</table>\n",
       "</div>"
      ],
      "text/plain": [
       "   ArticleId                                               Text  \\\n",
       "0       1833  worldcom ex-boss launches defence lawyers defe...   \n",
       "1        154  german businessman confidence slides german bu...   \n",
       "2       1101  bbc poll indicates economic gloom citizens in ...   \n",
       "3       1976  lifestyle  governs mobile choice  faster  bett...   \n",
       "4        917  enron bosses in $168m payout eighteen former e...   \n",
       "5       1582  howard  truanted to play snooker  conservative...   \n",
       "6        651  wales silent on grand slam talk rhys williams ...   \n",
       "7       1797  french honour for director parker british film...   \n",
       "8       2034  car giant hit by mercedes slump a slump in pro...   \n",
       "9       1866  fockers fuel festive film chart comedy meet th...   \n",
       "\n",
       "        Category                                  Preprocessed_Text  \n",
       "0    businessman  [worldcom, ex, bos, launch, defence, lawyer, d...  \n",
       "1    businessman  [german, businessman, confidence, slide, germa...  \n",
       "2    businessman  [bbc, poll, indicates, economic, gloom, citize...  \n",
       "3    educational  [lifestyle, governs, mobile, choice, faster, b...  \n",
       "4    businessman  [enron, boss, payout, eighteen, former, enron,...  \n",
       "5     politician  [howard, truanted, play, snooker, conservative...  \n",
       "6      sportsman  [wale, silent, grand, slam, talk, rhys, willia...  \n",
       "7  entertainment  [french, honour, director, parker, british, fi...  \n",
       "8    businessman  [car, giant, hit, mercedes, slump, slump, prof...  \n",
       "9  entertainment  [fockers, fuel, festive, film, chart, comedy, ...  "
      ]
     },
     "execution_count": 18,
     "metadata": {},
     "output_type": "execute_result"
    }
   ],
   "source": [
    "df1[\"Preprocessed_Text\"] = df1['Text'].apply(lambda x: preprocess(x))\n",
    "df1.head(10)"
   ]
  },
  {
   "cell_type": "code",
   "execution_count": 19,
   "metadata": {},
   "outputs": [],
   "source": [
    "def find_common_words(df, category):\n",
    "    cat_df = df[df[\"Category\"]==category]\n",
    "    words = [word for tokens in cat_df[\"Preprocessed_Text\"] for word in tokens]\n",
    "\n",
    "    words_counter = Counter(words)\n",
    " \n",
    "    return words_counter.most_common(10)"
   ]
  },
  {
   "cell_type": "code",
   "execution_count": 20,
   "metadata": {},
   "outputs": [
    {
     "name": "stdout",
     "output_type": "stream",
     "text": [
      "Most common words in each category\n",
      "businessman  News\n",
      "[('said', 1100), ('year', 618), ('bn', 535), ('u', 523), ('mr', 394), ('company', 393), ('firm', 374), ('market', 346), ('would', 309), ('also', 279)]\n",
      "\n",
      "educational  News\n",
      "[('said', 1064), ('people', 647), ('mobile', 437), ('phone', 396), ('game', 396), ('service', 371), ('one', 367), ('year', 364), ('mr', 350), ('new', 349)]\n",
      "\n",
      "politician  News\n",
      "[('said', 1445), ('mr', 1100), ('would', 712), ('labour', 494), ('election', 479), ('government', 471), ('party', 464), ('blair', 396), ('minister', 373), ('people', 372)]\n",
      "\n",
      "sportsman  News\n",
      "[('said', 636), ('game', 487), ('year', 448), ('first', 350), ('win', 337), ('time', 336), ('england', 329), ('player', 311), ('two', 290), ('back', 279)]\n",
      "\n",
      "entertainment  News\n",
      "[('film', 721), ('said', 594), ('year', 450), ('best', 430), ('award', 336), ('u', 290), ('also', 277), ('one', 274), ('show', 273), ('star', 259)]\n",
      "\n"
     ]
    }
   ],
   "source": [
    "print(\"Most common words in each category\")\n",
    "for c in category:\n",
    "    print(c, \" News\")\n",
    "    print(find_common_words(df1, c))\n",
    "    print()"
   ]
  },
  {
   "cell_type": "code",
   "execution_count": 21,
   "metadata": {},
   "outputs": [
    {
     "data": {
      "text/html": [
       "<div>\n",
       "<style scoped>\n",
       "    .dataframe tbody tr th:only-of-type {\n",
       "        vertical-align: middle;\n",
       "    }\n",
       "\n",
       "    .dataframe tbody tr th {\n",
       "        vertical-align: top;\n",
       "    }\n",
       "\n",
       "    .dataframe thead th {\n",
       "        text-align: right;\n",
       "    }\n",
       "</style>\n",
       "<table border=\"1\" class=\"dataframe\">\n",
       "  <thead>\n",
       "    <tr style=\"text-align: right;\">\n",
       "      <th></th>\n",
       "      <th>ArticleId</th>\n",
       "      <th>Text</th>\n",
       "      <th>Category</th>\n",
       "      <th>Preprocessed_Text</th>\n",
       "      <th>Preprocessed_Text2</th>\n",
       "    </tr>\n",
       "  </thead>\n",
       "  <tbody>\n",
       "    <tr>\n",
       "      <th>0</th>\n",
       "      <td>1833</td>\n",
       "      <td>worldcom ex-boss launches defence lawyers defe...</td>\n",
       "      <td>businessman</td>\n",
       "      <td>[worldcom, ex, bos, launch, defence, lawyer, d...</td>\n",
       "      <td>worldcom ex bos launch defence lawyer defendin...</td>\n",
       "    </tr>\n",
       "    <tr>\n",
       "      <th>1</th>\n",
       "      <td>154</td>\n",
       "      <td>german businessman confidence slides german bu...</td>\n",
       "      <td>businessman</td>\n",
       "      <td>[german, businessman, confidence, slide, germa...</td>\n",
       "      <td>german businessman confidence slide german bus...</td>\n",
       "    </tr>\n",
       "    <tr>\n",
       "      <th>2</th>\n",
       "      <td>1101</td>\n",
       "      <td>bbc poll indicates economic gloom citizens in ...</td>\n",
       "      <td>businessman</td>\n",
       "      <td>[bbc, poll, indicates, economic, gloom, citize...</td>\n",
       "      <td>bbc poll indicates economic gloom citizen majo...</td>\n",
       "    </tr>\n",
       "    <tr>\n",
       "      <th>3</th>\n",
       "      <td>1976</td>\n",
       "      <td>lifestyle  governs mobile choice  faster  bett...</td>\n",
       "      <td>educational</td>\n",
       "      <td>[lifestyle, governs, mobile, choice, faster, b...</td>\n",
       "      <td>lifestyle governs mobile choice faster better ...</td>\n",
       "    </tr>\n",
       "    <tr>\n",
       "      <th>4</th>\n",
       "      <td>917</td>\n",
       "      <td>enron bosses in $168m payout eighteen former e...</td>\n",
       "      <td>businessman</td>\n",
       "      <td>[enron, boss, payout, eighteen, former, enron,...</td>\n",
       "      <td>enron boss payout eighteen former enron direct...</td>\n",
       "    </tr>\n",
       "  </tbody>\n",
       "</table>\n",
       "</div>"
      ],
      "text/plain": [
       "   ArticleId                                               Text     Category  \\\n",
       "0       1833  worldcom ex-boss launches defence lawyers defe...  businessman   \n",
       "1        154  german businessman confidence slides german bu...  businessman   \n",
       "2       1101  bbc poll indicates economic gloom citizens in ...  businessman   \n",
       "3       1976  lifestyle  governs mobile choice  faster  bett...  educational   \n",
       "4        917  enron bosses in $168m payout eighteen former e...  businessman   \n",
       "\n",
       "                                   Preprocessed_Text  \\\n",
       "0  [worldcom, ex, bos, launch, defence, lawyer, d...   \n",
       "1  [german, businessman, confidence, slide, germa...   \n",
       "2  [bbc, poll, indicates, economic, gloom, citize...   \n",
       "3  [lifestyle, governs, mobile, choice, faster, b...   \n",
       "4  [enron, boss, payout, eighteen, former, enron,...   \n",
       "\n",
       "                                  Preprocessed_Text2  \n",
       "0  worldcom ex bos launch defence lawyer defendin...  \n",
       "1  german businessman confidence slide german bus...  \n",
       "2  bbc poll indicates economic gloom citizen majo...  \n",
       "3  lifestyle governs mobile choice faster better ...  \n",
       "4  enron boss payout eighteen former enron direct...  "
      ]
     },
     "execution_count": 21,
     "metadata": {},
     "output_type": "execute_result"
    }
   ],
   "source": [
    "df1['Preprocessed_Text2'] = df1['Preprocessed_Text'].apply(' '.join)\n",
    "df1.head()"
   ]
  },
  {
   "cell_type": "code",
   "execution_count": 22,
   "metadata": {},
   "outputs": [],
   "source": [
    "X = df1['Preprocessed_Text2']\n",
    "y = df1['Category']"
   ]
  },
  {
   "cell_type": "code",
   "execution_count": 23,
   "metadata": {},
   "outputs": [],
   "source": [
    "X_train, X_test, y_train, y_test = train_test_split(X, y, test_size = 0.2)"
   ]
  },
  {
   "cell_type": "code",
   "execution_count": 24,
   "metadata": {},
   "outputs": [],
   "source": [
    "tf_vec = TfidfVectorizer()\n",
    "train_features = tf_vec.fit(X_train)\n",
    "train_features = tf_vec.transform(X_train)\n",
    "test_features = tf_vec.transform(X_test)"
   ]
  },
  {
   "cell_type": "code",
   "execution_count": 25,
   "metadata": {},
   "outputs": [],
   "source": [
    "def fit_eval_model(model, train_features, y_train, test_features, y_test):\n",
    "    results ={}\n",
    "    \n",
    "    start = time.time()\n",
    "    model.fit(train_features, y_train)\n",
    "    end = time.time()\n",
    "    results['train_time'] = end - start\n",
    "    train_predicted = model.predict(train_features)\n",
    "    test_predicted = model.predict(test_features)\n",
    "\n",
    "    results['classification_report'] = classification_report(y_test, test_predicted)\n",
    "        \n",
    "    return results"
   ]
  },
  {
   "cell_type": "code",
   "execution_count": 26,
   "metadata": {},
   "outputs": [],
   "source": [
    "sv = svm.SVC()\n",
    "ab = AdaBoostClassifier(random_state = 1)\n",
    "gb = GradientBoostingClassifier(random_state = 1)\n",
    "xgb = xgboost.XGBClassifier(random_state = 1)\n",
    "tree = DecisionTreeClassifier()\n",
    "nb = MultinomialNB()\n",
    "\n",
    "\n",
    "# Fit and evaluate models\n",
    "results = {}\n",
    "for cls in [sv, ab, gb, xgb, tree, nb]:\n",
    "    cls_name = cls.__class__.__name__\n",
    "    results[cls_name] = {}\n",
    "    results[cls_name] = fit_eval_model(cls, train_features, y_train, test_features, y_test)"
   ]
  },
  {
   "cell_type": "code",
   "execution_count": 27,
   "metadata": {},
   "outputs": [
    {
     "name": "stdout",
     "output_type": "stream",
     "text": [
      "SVC\n",
      "\n",
      "train_time :\n",
      "2.036956310272217\n",
      "\n",
      "classification_report :\n",
      "               precision    recall  f1-score   support\n",
      "\n",
      "  businessman       0.90      0.97      0.93        64\n",
      "  educational       0.95      0.91      0.93        46\n",
      "entertainment       1.00      0.98      0.99        58\n",
      "   politician       0.96      0.90      0.93        52\n",
      "    sportsman       0.97      0.99      0.98        78\n",
      "\n",
      "     accuracy                           0.96       298\n",
      "    macro avg       0.96      0.95      0.95       298\n",
      " weighted avg       0.96      0.96      0.96       298\n",
      "\n",
      "\n",
      "-----\n",
      "\n",
      "AdaBoostClassifier\n",
      "\n",
      "train_time :\n",
      "0.7572510242462158\n",
      "\n",
      "classification_report :\n",
      "               precision    recall  f1-score   support\n",
      "\n",
      "  businessman       0.73      0.80      0.76        64\n",
      "  educational       0.94      0.70      0.80        46\n",
      "entertainment       0.75      0.74      0.75        58\n",
      "   politician       0.79      0.65      0.72        52\n",
      "    sportsman       0.78      0.94      0.85        78\n",
      "\n",
      "     accuracy                           0.78       298\n",
      "    macro avg       0.80      0.76      0.77       298\n",
      " weighted avg       0.79      0.78      0.78       298\n",
      "\n",
      "\n",
      "-----\n",
      "\n",
      "GradientBoostingClassifier\n",
      "\n",
      "train_time :\n",
      "16.467193841934204\n",
      "\n",
      "classification_report :\n",
      "               precision    recall  f1-score   support\n",
      "\n",
      "  businessman       0.94      0.94      0.94        64\n",
      "  educational       0.94      0.98      0.96        46\n",
      "entertainment       0.98      0.95      0.96        58\n",
      "   politician       0.94      0.90      0.92        52\n",
      "    sportsman       0.96      0.99      0.97        78\n",
      "\n",
      "     accuracy                           0.95       298\n",
      "    macro avg       0.95      0.95      0.95       298\n",
      " weighted avg       0.95      0.95      0.95       298\n",
      "\n",
      "\n",
      "-----\n",
      "\n",
      "XGBClassifier\n",
      "\n",
      "train_time :\n",
      "2.2527449131011963\n",
      "\n",
      "classification_report :\n",
      "               precision    recall  f1-score   support\n",
      "\n",
      "  businessman       0.88      0.91      0.89        64\n",
      "  educational       0.93      0.89      0.91        46\n",
      "entertainment       0.95      0.95      0.95        58\n",
      "   politician       0.94      0.92      0.93        52\n",
      "    sportsman       0.97      0.99      0.98        78\n",
      "\n",
      "     accuracy                           0.94       298\n",
      "    macro avg       0.93      0.93      0.93       298\n",
      " weighted avg       0.94      0.94      0.94       298\n",
      "\n",
      "\n",
      "-----\n",
      "\n",
      "DecisionTreeClassifier\n",
      "\n",
      "train_time :\n",
      "0.1831798553466797\n",
      "\n",
      "classification_report :\n",
      "               precision    recall  f1-score   support\n",
      "\n",
      "  businessman       0.77      0.77      0.77        64\n",
      "  educational       0.88      0.76      0.81        46\n",
      "entertainment       0.77      0.86      0.81        58\n",
      "   politician       0.84      0.79      0.81        52\n",
      "    sportsman       0.86      0.88      0.87        78\n",
      "\n",
      "     accuracy                           0.82       298\n",
      "    macro avg       0.82      0.81      0.82       298\n",
      " weighted avg       0.82      0.82      0.82       298\n",
      "\n",
      "\n",
      "-----\n",
      "\n",
      "MultinomialNB\n",
      "\n",
      "train_time :\n",
      "0.0037200450897216797\n",
      "\n",
      "classification_report :\n",
      "               precision    recall  f1-score   support\n",
      "\n",
      "  businessman       0.91      0.95      0.93        64\n",
      "  educational       0.93      0.93      0.93        46\n",
      "entertainment       1.00      0.95      0.97        58\n",
      "   politician       0.92      0.90      0.91        52\n",
      "    sportsman       0.97      0.99      0.98        78\n",
      "\n",
      "     accuracy                           0.95       298\n",
      "    macro avg       0.95      0.95      0.95       298\n",
      " weighted avg       0.95      0.95      0.95       298\n",
      "\n",
      "\n",
      "-----\n",
      "\n"
     ]
    }
   ],
   "source": [
    "for res in results:\n",
    "    print (res)\n",
    "    print()\n",
    "    for i in results[res]:\n",
    "        print (i, ':')\n",
    "        print(results[res][i])\n",
    "        print()\n",
    "    print ('-----')\n",
    "    print()"
   ]
  },
  {
   "cell_type": "code",
   "execution_count": 28,
   "metadata": {},
   "outputs": [],
   "source": [
    "def classify_article(path):\n",
    "    file = open(path, 'r')\n",
    "    artcl = file.read()\n",
    "\n",
    "    artcl = preprocess(artcl)\n",
    "    artcl = ' '.join(artcl)\n",
    "\n",
    "    test = tf_vec.transform([artcl])\n",
    "\n",
    "    predict = nb.predict(test)\n",
    "    category = predict[0]\n",
    "\n",
    "    file.close()\n",
    "\n",
    "    return category"
   ]
  },
  {
   "cell_type": "code",
   "execution_count": 29,
   "metadata": {},
   "outputs": [
    {
     "name": "stdout",
     "output_type": "stream",
     "text": [
      "sportsman\n"
     ]
    }
   ],
   "source": [
    "print(classify_article('Articles/art1.txt'))"
   ]
  },
  {
   "cell_type": "code",
   "execution_count": 30,
   "metadata": {},
   "outputs": [
    {
     "name": "stdout",
     "output_type": "stream",
     "text": [
      "businessman\n"
     ]
    }
   ],
   "source": [
    "print(classify_article('Articles/art2.txt'))"
   ]
  },
  {
   "cell_type": "code",
   "execution_count": 31,
   "metadata": {},
   "outputs": [
    {
     "name": "stdout",
     "output_type": "stream",
     "text": [
      "politician\n"
     ]
    }
   ],
   "source": [
    "print(classify_article('Articles/art3.txt'))"
   ]
  },
  {
   "cell_type": "code",
   "execution_count": 32,
   "metadata": {},
   "outputs": [
    {
     "name": "stdout",
     "output_type": "stream",
     "text": [
      "entertainment\n"
     ]
    }
   ],
   "source": [
    "print(classify_article('Articles/art4.txt'))"
   ]
  },
  {
   "cell_type": "code",
   "execution_count": 33,
   "metadata": {},
   "outputs": [
    {
     "name": "stdout",
     "output_type": "stream",
     "text": [
      "educational\n"
     ]
    }
   ],
   "source": [
    "print(classify_article('Articles/test.txt'))"
   ]
  },
  {
   "cell_type": "code",
   "execution_count": null,
   "metadata": {},
   "outputs": [],
   "source": []
  }
 ],
 "metadata": {
  "kernelspec": {
   "display_name": "Python 3",
   "language": "python",
   "name": "python3"
  },
  "language_info": {
   "codemirror_mode": {
    "name": "ipython",
    "version": 3
   },
   "file_extension": ".py",
   "mimetype": "text/x-python",
   "name": "python",
   "nbconvert_exporter": "python",
   "pygments_lexer": "ipython3",
   "version": "3.8.5"
  }
 },
 "nbformat": 4,
 "nbformat_minor": 4
}
